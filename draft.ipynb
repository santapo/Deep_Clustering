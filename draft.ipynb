{
 "cells": [
  {
   "cell_type": "code",
   "execution_count": 1,
   "source": [
    "from dummy_cluster import data_preprocess, dummy_cluster, get_cluster_class, get_class"
   ],
   "outputs": [],
   "metadata": {}
  },
  {
   "cell_type": "code",
   "execution_count": 2,
   "source": [
    "data_path = '/home/santapo/OnlineLab/deep_clustering/data/label/test_'\n",
    "flatten_images, all_labels = data_preprocess(data_path)\n",
    "clusters = dummy_cluster(embb_vec=flatten_images)"
   ],
   "outputs": [
    {
     "output_type": "stream",
     "name": "stderr",
     "text": [
      "100%|██████████| 7195/7195 [00:44<00:00, 162.90it/s]\n"
     ]
    }
   ],
   "metadata": {}
  },
  {
   "cell_type": "code",
   "execution_count": 3,
   "source": [
    "ref_classes = get_cluster_class(all_labels, clusters)\n",
    "predicted = get_class(ref_classes, clusters)"
   ],
   "outputs": [],
   "metadata": {}
  },
  {
   "cell_type": "code",
   "execution_count": 6,
   "source": [
    "from sklearn.metrics import accuracy_score"
   ],
   "outputs": [],
   "metadata": {}
  },
  {
   "cell_type": "code",
   "execution_count": 7,
   "source": [
    "accuracy_score(predicted, all_labels)"
   ],
   "outputs": [
    {
     "output_type": "execute_result",
     "data": {
      "text/plain": [
       "0.3535788742182071"
      ]
     },
     "metadata": {},
     "execution_count": 7
    }
   ],
   "metadata": {}
  },
  {
   "cell_type": "code",
   "execution_count": 16,
   "source": [
    "from sklearn.metrics import confusion_matrix, ConfusionMatrixDisplay"
   ],
   "outputs": [],
   "metadata": {}
  },
  {
   "cell_type": "code",
   "execution_count": 30,
   "source": [
    "cm = confusion_matrix(all_labels, predicted)"
   ],
   "outputs": [],
   "metadata": {}
  },
  {
   "cell_type": "code",
   "execution_count": 12,
   "source": [
    "os.getcwd()"
   ],
   "outputs": [
    {
     "output_type": "execute_result",
     "data": {
      "text/plain": [
       "'/home/santapo/OnlineLab/deep_clustering'"
      ]
     },
     "metadata": {},
     "execution_count": 12
    }
   ],
   "metadata": {}
  },
  {
   "cell_type": "code",
   "execution_count": 15,
   "source": [
    "os.path.join(os.getcwd(), 'exps', 'h')"
   ],
   "outputs": [
    {
     "output_type": "execute_result",
     "data": {
      "text/plain": [
       "'/home/santapo/OnlineLab/deep_clustering/exps/h'"
      ]
     },
     "metadata": {},
     "execution_count": 15
    }
   ],
   "metadata": {}
  },
  {
   "cell_type": "code",
   "execution_count": 22,
   "source": [
    "disp = ConfusionMatrixDisplay(cm,\n",
    "                            display_labels=None)"
   ],
   "outputs": [],
   "metadata": {}
  },
  {
   "cell_type": "code",
   "execution_count": 23,
   "source": [
    "disp.plot()"
   ],
   "outputs": [
    {
     "output_type": "execute_result",
     "data": {
      "text/plain": [
       "<sklearn.metrics._plot.confusion_matrix.ConfusionMatrixDisplay at 0x7f011666b0a0>"
      ]
     },
     "metadata": {},
     "execution_count": 23
    }
   ],
   "metadata": {}
  },
  {
   "cell_type": "code",
   "execution_count": 26,
   "source": [
    "from matplotlib import pyplot as plt\n",
    "\n",
    "plt.matshow(cm)\n",
    "plt.savefig('confusion_matrix.jpg')"
   ],
   "outputs": [],
   "metadata": {}
  },
  {
   "cell_type": "code",
   "execution_count": 31,
   "source": [
    "CLASS_ID = {\n",
    "    'butterfly' : 0,\n",
    "    'cat'       : 1,\n",
    "    'dog'       : 2,\n",
    "    'forest'    : 3,\n",
    "    'lion'      : 4,\n",
    "    'monkey'    : 5,\n",
    "    'rose'      : 6,\n",
    "    'sunflower' : 7\n",
    "    }\n",
    "    "
   ],
   "outputs": [],
   "metadata": {}
  },
  {
   "cell_type": "code",
   "execution_count": 41,
   "source": [
    "predicted"
   ],
   "outputs": [
    {
     "output_type": "execute_result",
     "data": {
      "text/plain": [
       "array([1., 1., 3., ..., 2., 2., 2.])"
      ]
     },
     "metadata": {},
     "execution_count": 41
    }
   ],
   "metadata": {}
  },
  {
   "cell_type": "code",
   "execution_count": 39,
   "source": [
    "label_list = list(CLASS_ID)\n",
    "new_predicted = [label_list[int(i)] for i in predicted]"
   ],
   "outputs": [],
   "metadata": {}
  },
  {
   "cell_type": "code",
   "execution_count": 42,
   "source": [
    "new_all_labels = [label_list[int(i)] for i in all_labels]"
   ],
   "outputs": [],
   "metadata": {}
  },
  {
   "cell_type": "code",
   "execution_count": 48,
   "source": [
    "new_cm = confusion_matrix(new_all_labels, new_predicted, labels=label_list)"
   ],
   "outputs": [],
   "metadata": {}
  },
  {
   "cell_type": "code",
   "execution_count": 49,
   "source": [
    "new_cm"
   ],
   "outputs": [
    {
     "output_type": "execute_result",
     "data": {
      "text/plain": [
       "array([[   0,   25,   48,   69,    0,    0,    0,    0],\n",
       "       [   0,  981,  962,  455,    0,    0,    0,    0],\n",
       "       [   0,  660, 1058,  360,    0,    0,    0,    0],\n",
       "       [   0,  208,  410,  505,    0,    0,    0,    0],\n",
       "       [   0,  138,  195,  136,    0,    0,    0,    0],\n",
       "       [   0,   24,   43,  143,    0,    0,    0,    0],\n",
       "       [   0,  137,  193,  116,    0,    0,    0,    0],\n",
       "       [   0,   67,  182,   80,    0,    0,    0,    0]])"
      ]
     },
     "metadata": {},
     "execution_count": 49
    }
   ],
   "metadata": {}
  },
  {
   "cell_type": "code",
   "execution_count": 59,
   "source": [
    "fig = plt.figure()\n",
    "ax = fig.add_subplot(111)\n",
    "cax = ax.matshow(new_cm, interpolation='nearest')\n",
    "\n",
    "ax.set_xticklabels(['']+label_list)\n",
    "ax.set_yticklabels(['']+label_list)\n",
    "fig.colorbar(cax)\n",
    "\n",
    "plt.show()\n",
    "fig.savefig('new.jpg')"
   ],
   "outputs": [
    {
     "output_type": "stream",
     "name": "stderr",
     "text": [
      "<ipython-input-59-bdf4fbc74a58>:5: UserWarning: FixedFormatter should only be used together with FixedLocator\n",
      "  ax.set_xticklabels(['']+label_list)\n",
      "<ipython-input-59-bdf4fbc74a58>:6: UserWarning: FixedFormatter should only be used together with FixedLocator\n",
      "  ax.set_yticklabels(['']+label_list)\n"
     ]
    },
    {
     "output_type": "display_data",
     "data": {
      "text/plain": [
       "<Figure size 640x480 with 2 Axes>"
      ],
      "image/png": "[encoded data removed]"
     },
     "metadata": {}
    }
   ],
   "metadata": {}
  },
  {
   "cell_type": "code",
   "execution_count": 61,
   "source": [
    "import os\n",
    "from tensorboardX import SummaryWriter\n",
    "writer = SummaryWriter(os.path.join(os.getcwd(), 'exps', 'default'))\n",
    "writer.add_figure(tag='confusion matrix', figure=fig, global_step=1)"
   ],
   "outputs": [],
   "metadata": {}
  },
  {
   "cell_type": "code",
   "execution_count": 64,
   "source": [
    "import numpy as np\n",
    "from typing import List\n",
    "def plot_fig(confusion_matrix: np.ndarray,\n",
    "            class_name: List[str]) -> plt.figure:\n",
    "\n",
    "    fig = plt.figure()\n",
    "    ax = fig.add_subplot(111)\n",
    "    cax = ax.matshow(confusion_matrix, interpolation='nearest')\n",
    "\n",
    "    ax.set_xticklabels(['']+class_name)\n",
    "    ax.set_yticklabels(['']+class_name)\n",
    "    fig.colorbar(cax)\n",
    "\n",
    "    return fig"
   ],
   "outputs": [],
   "metadata": {}
  },
  {
   "cell_type": "code",
   "execution_count": 65,
   "source": [
    "fig = plot_fig(cm, label_list)"
   ],
   "outputs": [
    {
     "output_type": "stream",
     "name": "stderr",
     "text": [
      "<ipython-input-64-7ad954c95b6f>:10: UserWarning: FixedFormatter should only be used together with FixedLocator\n",
      "  ax.set_xticklabels(['']+class_name)\n",
      "<ipython-input-64-7ad954c95b6f>:11: UserWarning: FixedFormatter should only be used together with FixedLocator\n",
      "  ax.set_yticklabels(['']+class_name)\n"
     ]
    }
   ],
   "metadata": {}
  },
  {
   "cell_type": "code",
   "execution_count": 66,
   "source": [
    "plt.savefig('new.jpg')"
   ],
   "outputs": [],
   "metadata": {}
  },
  {
   "cell_type": "code",
   "execution_count": null,
   "source": [],
   "outputs": [],
   "metadata": {}
  }
 ],
 "metadata": {
  "orig_nbformat": 4,
  "language_info": {
   "name": "python",
   "version": "3.9.5",
   "mimetype": "text/x-python",
   "codemirror_mode": {
    "name": "ipython",
    "version": 3
   },
   "pygments_lexer": "ipython3",
   "nbconvert_exporter": "python",
   "file_extension": ".py"
  },
  "kernelspec": {
   "name": "python3",
   "display_name": "Python 3.9.5 64-bit ('deepclustering': conda)"
  },
  "interpreter": {
   "hash": "9c3cfee46544d2f018cedfe4d7263e14a22ce6c791652280b03c633b7536eddc"
  }
 },
 "nbformat": 4,
 "nbformat_minor": 2
}