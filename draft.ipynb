{
 "cells": [
  {
   "cell_type": "code",
   "execution_count": 1,
   "source": [
    "from dummy_cluster import data_preprocess, dummy_cluster, get_cluster_class, get_class"
   ],
   "outputs": [],
   "metadata": {}
  },
  {
   "cell_type": "code",
   "execution_count": 2,
   "source": [
    "data_path = '/home/santapo/OnlineLab/deep_clustering/data/label/test_'\n",
    "flatten_images, all_labels = data_preprocess(data_path)\n",
    "clusters = dummy_cluster(embb_vec=flatten_images)"
   ],
   "outputs": [
    {
     "output_type": "stream",
     "name": "stderr",
     "text": [
      "100%|██████████| 7195/7195 [00:44<00:00, 162.90it/s]\n"
     ]
    }
   ],
   "metadata": {}
  },
  {
   "cell_type": "code",
   "execution_count": 3,
   "source": [
    "ref_classes = get_cluster_class(all_labels, clusters)\n",
    "predicted = get_class(ref_classes, clusters)"
   ],
   "outputs": [],
   "metadata": {}
  },
  {
   "cell_type": "code",
   "execution_count": 6,
   "source": [
    "from sklearn.metrics import accuracy_score"
   ],
   "outputs": [],
   "metadata": {}
  },
  {
   "cell_type": "code",
   "execution_count": 7,
   "source": [
    "accuracy_score(predicted, all_labels)"
   ],
   "outputs": [
    {
     "output_type": "execute_result",
     "data": {
      "text/plain": [
       "0.3535788742182071"
      ]
     },
     "metadata": {},
     "execution_count": 7
    }
   ],
   "metadata": {}
  },
  {
   "cell_type": "code",
   "execution_count": 8,
   "source": [
    "from sklearn.metrics import confusion_matrix"
   ],
   "outputs": [],
   "metadata": {}
  },
  {
   "cell_type": "code",
   "execution_count": 9,
   "source": [
    "confusion_matrix(all_labels, predicted)"
   ],
   "outputs": [
    {
     "output_type": "execute_result",
     "data": {
      "text/plain": [
       "array([[   0,   25,   48,   69,    0,    0,    0,    0],\n",
       "       [   0,  981,  962,  455,    0,    0,    0,    0],\n",
       "       [   0,  660, 1058,  360,    0,    0,    0,    0],\n",
       "       [   0,  208,  410,  505,    0,    0,    0,    0],\n",
       "       [   0,  138,  195,  136,    0,    0,    0,    0],\n",
       "       [   0,   24,   43,  143,    0,    0,    0,    0],\n",
       "       [   0,  137,  193,  116,    0,    0,    0,    0],\n",
       "       [   0,   67,  182,   80,    0,    0,    0,    0]])"
      ]
     },
     "metadata": {},
     "execution_count": 9
    }
   ],
   "metadata": {}
  },
  {
   "cell_type": "code",
   "execution_count": null,
   "source": [],
   "outputs": [],
   "metadata": {}
  }
 ],
 "metadata": {
  "orig_nbformat": 4,
  "language_info": {
   "name": "python",
   "version": "3.9.5",
   "mimetype": "text/x-python",
   "codemirror_mode": {
    "name": "ipython",
    "version": 3
   },
   "pygments_lexer": "ipython3",
   "nbconvert_exporter": "python",
   "file_extension": ".py"
  },
  "kernelspec": {
   "name": "python3",
   "display_name": "Python 3.9.5 64-bit ('deepclustering': conda)"
  },
  "interpreter": {
   "hash": "9c3cfee46544d2f018cedfe4d7263e14a22ce6c791652280b03c633b7536eddc"
  }
 },
 "nbformat": 4,
 "nbformat_minor": 2
}